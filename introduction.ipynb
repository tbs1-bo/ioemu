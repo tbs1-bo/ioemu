{
 "cells": [
  {
   "cell_type": "markdown",
   "metadata": {},
   "source": [
    "# ioemu"
   ]
  },
  {
   "cell_type": "markdown",
   "metadata": {},
   "source": [
    "## Installation\n",
    "\n",
    "User pip for a simple installation\n",
    "\n",
    "- Linux, MacOS: python3 -m pip install ioemu\n",
    "- Windows: python -m pip install ioemu"
   ]
  },
  {
   "cell_type": "markdown",
   "metadata": {},
   "source": [
    "## Examples\n",
    "\n",
    "Import the emulator from the ioemu package"
   ]
  },
  {
   "cell_type": "code",
   "execution_count": null,
   "metadata": {},
   "outputs": [],
   "source": [
    "from ioemu import Emulator"
   ]
  },
  {
   "cell_type": "markdown",
   "metadata": {},
   "source": [
    "Create an instance of the emulator, write some bits into the buffer and show it with the `tick`-method. This method must be run periodically - e.g. in a loop."
   ]
  },
  {
   "cell_type": "code",
   "execution_count": null,
   "metadata": {},
   "outputs": [],
   "source": [
    "emu = Emulator(num_leds=3)\n",
    "emu.write(0b101)\n",
    "# run tick every frame\n",
    "emu.tick()"
   ]
  },
  {
   "cell_type": "markdown",
   "metadata": {},
   "source": [
    "## Buttons\n",
    "\n",
    "The emulator contains two buttons. Their current state (pressed or not pressed) can be read from the attribute `button_pressed`. It's a bool array corresponding to the state of being pressed."
   ]
  },
  {
   "cell_type": "code",
   "execution_count": null,
   "metadata": {},
   "outputs": [],
   "source": [
    "emu = Emulator()  # 8 LEDs will be used if no number given\n",
    "while True:\n",
    "    if emu.button_pressed[0]:\n",
    "        emu.write(0b11110000)\n",
    "        \n",
    "    if emu.button_pressed[1]:\n",
    "        emu.write(0b00001111)\n",
    "\n",
    "    emu.tick()"
   ]
  },
  {
   "cell_type": "markdown",
   "metadata": {},
   "source": [
    "## Counter\n",
    "\n",
    "Finally a counter, that counts up when pressing one button and down, when pressing the other."
   ]
  },
  {
   "cell_type": "code",
   "execution_count": null,
   "metadata": {},
   "outputs": [],
   "source": [
    "emu = Emulator()\n",
    "i = 1\n",
    "while True:\n",
    "    if emu.button_pressed[0]:\n",
    "        i += 1\n",
    "    if emu.button_pressed[1]:\n",
    "        i -= 1\n",
    "\n",
    "    # fit i into range of values\n",
    "    i = i % 255\n",
    "\n",
    "    emu.write(i)\n",
    "    emu.tick()"
   ]
  }
 ],
 "metadata": {
  "kernelspec": {
   "display_name": "Python 3",
   "language": "python",
   "name": "python3"
  },
  "language_info": {
   "codemirror_mode": {
    "name": "ipython",
    "version": 3
   },
   "file_extension": ".py",
   "mimetype": "text/x-python",
   "name": "python",
   "nbconvert_exporter": "python",
   "pygments_lexer": "ipython3",
   "version": "3.5.2"
  }
 },
 "nbformat": 4,
 "nbformat_minor": 2
}
