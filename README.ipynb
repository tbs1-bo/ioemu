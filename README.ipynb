{
 "cells": [
  {
   "cell_type": "markdown",
   "metadata": {},
   "source": [
    "# ioemu\n",
    "\n",
    "![screenshot](ioemu-screenshot.png)\n",
    "\n",
    "The ioemu-project provides an  emulator for input/output operations with simple electronic components like LEDs and push buttons."
   ]
  },
  {
   "cell_type": "markdown",
   "metadata": {},
   "source": [
    "## Installation and Upgrade\n",
    "\n",
    "Use pip for a simple installation. For an update use `install --upgrade`. \n",
    "\n",
    "- Linux, MacOS: `python3 -m pip install ioemu`\n",
    "- Windows: `python -m pip install ioemu`"
   ]
  },
  {
   "cell_type": "markdown",
   "metadata": {},
   "source": [
    "## Starting the emulator\n",
    "\n",
    "First start the emulator by entering `ioemu` on the commandline. A Gui will show up.\n",
    "\n",
    "![screenshot](ioemu-screenshot.png)\n",
    "\n",
    "It contains a slider for analog values between 0 and 99, threee LEDs and two push buttons from left to right."
   ]
  },
  {
   "cell_type": "markdown",
   "metadata": {},
   "source": [
    "## LEDs\n",
    "\n",
    "If the emulator is running, you can interact with it from any python program running on the same machine. First import the class `Emulator` from the `ioemu` package."
   ]
  },
  {
   "cell_type": "code",
   "execution_count": null,
   "metadata": {},
   "outputs": [],
   "source": [
    "from ioemu import Emulator"
   ]
  },
  {
   "cell_type": "markdown",
   "metadata": {},
   "source": [
    "Now create an instance of the emulator and switch some LEDs on. They can be controlled by setting the `leds` attribute."
   ]
  },
  {
   "cell_type": "code",
   "execution_count": null,
   "metadata": {},
   "outputs": [],
   "source": [
    "emu = Emulator()\n",
    "emu.leds = [True, False, True]"
   ]
  },
  {
   "cell_type": "markdown",
   "metadata": {},
   "source": [
    "## Buttons\n",
    "\n",
    "![screenshot](buttons.gif)\n",
    "\n",
    "The emulator has two buttons. Their current state (pressed or not pressed) can be read from the attribute `buttons`. It's a bool array corresponding to the state of being pressed.\n",
    "\n",
    "The following program lights up some LEDs depending on the button being pressed."
   ]
  },
  {
   "cell_type": "code",
   "execution_count": null,
   "metadata": {},
   "outputs": [],
   "source": [
    "emu = Emulator()\n",
    "while True:\n",
    "    if emu.buttons[0]:\n",
    "        emu.leds = [False, True, True]\n",
    "        \n",
    "    if emu.buttons[1]:\n",
    "        emu.leds = [True, True, False]\n",
    "\n",
    "    if not (emu.buttons[0] or emu.buttons[1]):\n",
    "        emu.leds = [False, False, False]"
   ]
  },
  {
   "cell_type": "markdown",
   "metadata": {},
   "source": [
    "## Analog Value (0-99)\n",
    "\n",
    "Let's look into a program that allows you to control the LEDs with the slider at the left. The current sliders value can be read from the `analog_value` attribute of the Emulator. Its value ranges from 0 to 99.\n",
    "\n",
    "![image](analog_value.gif)"
   ]
  },
  {
   "cell_type": "code",
   "execution_count": null,
   "metadata": {},
   "outputs": [],
   "source": [
    "import time\n",
    "\n",
    "emu = Emulator()\n",
    "led_on = 0\n",
    "\n",
    "while True:\n",
    "    if 0 <= emu.analog_value < 25:\n",
    "        emu.leds = [False, False, False]\n",
    "    elif 25 <= emu.analog_value < 50:\n",
    "        emu.leds = [True, False, False]\n",
    "    elif 50 <= emu.analog_value < 75:\n",
    "        emu.leds = [True, True, False]\n",
    "    else:\n",
    "        emu.leds = [True, True, True]"
   ]
  },
  {
   "cell_type": "markdown",
   "metadata": {},
   "source": [
    "## Demo\n",
    "\n",
    "There is a demo program that can be started with `python -m ioemu.demo`. It will blink the LEDs and print the current button state as well as the analog value to console.\n",
    "\n",
    "![demo](demo.gif)\n",
    "\n",
    "You can find the source code in [demo.py](ioemu/demo.py)."
   ]
  },
  {
   "cell_type": "markdown",
   "metadata": {},
   "source": [
    "## Bugs\n",
    "\n",
    "If you find any bugs or have a feature request, feel free to file a ticket at the projects [bugtracker](https://github.com/tbs1-bo/ioemu/issues/new) on github."
   ]
  }
 ],
 "metadata": {
  "kernelspec": {
   "display_name": "Python 3",
   "language": "python",
   "name": "python3"
  },
  "language_info": {
   "codemirror_mode": {
    "name": "ipython",
    "version": 3
   },
   "file_extension": ".py",
   "mimetype": "text/x-python",
   "name": "python",
   "nbconvert_exporter": "python",
   "pygments_lexer": "ipython3",
   "version": "3.5.2"
  }
 },
 "nbformat": 4,
 "nbformat_minor": 2
}
